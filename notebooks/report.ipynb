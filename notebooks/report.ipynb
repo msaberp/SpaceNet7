{
 "cells": [
  {
   "cell_type": "code",
   "execution_count": 1,
   "source": [
    "# the input images have .tif format\n",
    "# they have rgb-alpha (4) channels\n",
    "# last channel is the mask over the image (the mask excludes the clouds and other artifacts from the image)"
   ],
   "outputs": [],
   "metadata": {}
  },
  {
   "cell_type": "code",
   "execution_count": null,
   "source": [
    "# reading .tif files using rasterio\n",
    "# reading .geojson files using geopandas\n",
    "# creating raster masks using labeled polygons in geojson files"
   ],
   "outputs": [],
   "metadata": {}
  },
  {
   "cell_type": "code",
   "execution_count": null,
   "source": [
    "# show some augmentations"
   ],
   "outputs": [],
   "metadata": {}
  },
  {
   "cell_type": "code",
   "execution_count": 2,
   "source": [
    "# comparing our f1-score with other papers"
   ],
   "outputs": [],
   "metadata": {}
  },
  {
   "cell_type": "code",
   "execution_count": null,
   "source": [],
   "outputs": [],
   "metadata": {}
  }
 ],
 "metadata": {
  "orig_nbformat": 4,
  "language_info": {
   "name": "python",
   "version": "3.9.6",
   "mimetype": "text/x-python",
   "codemirror_mode": {
    "name": "ipython",
    "version": 3
   },
   "pygments_lexer": "ipython3",
   "nbconvert_exporter": "python",
   "file_extension": ".py"
  },
  "kernelspec": {
   "name": "python3",
   "display_name": "Python 3.9.6 64-bit ('sn7': conda)"
  },
  "interpreter": {
   "hash": "986805202e7b4b3945d9ecd60001776317853be6926f3bbf171968f1a304a27d"
  }
 },
 "nbformat": 4,
 "nbformat_minor": 2
}