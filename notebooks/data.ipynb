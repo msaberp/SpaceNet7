{
 "cells": [
  {
   "cell_type": "code",
   "execution_count": null,
   "source": [
    "import sys\n",
    "sys.path.append(\"../\")"
   ],
   "outputs": [],
   "metadata": {}
  },
  {
   "cell_type": "code",
   "execution_count": null,
   "source": [
    "from imgaug.augmentables.segmaps import SegmentationMapsOnImage\n",
    "import imageio\n",
    "import imgaug as ia\n",
    "import imgaug.augmenters as iaa\n",
    "from tqdm import tqdm\n",
    "import cv2 as cv\n",
    "import matplotlib.pyplot as plt\n",
    "import rasterio\n",
    "import geopandas as gpd\n",
    "import os\n",
    "import numpy as np"
   ],
   "outputs": [],
   "metadata": {}
  },
  {
   "cell_type": "code",
   "execution_count": null,
   "source": [
    "crop_size = 512"
   ],
   "outputs": [],
   "metadata": {}
  },
  {
   "cell_type": "code",
   "execution_count": null,
   "source": [
    "def display_image_in_actual_size(im_data):\n",
    "    # im_data -> HxWxC\n",
    "    dpi = 80\n",
    "    height, width = im_data.shape[:2]\n",
    "\n",
    "    # What size does the figure need to be in inches to fit the image?\n",
    "    figsize = width / float(dpi), height / float(dpi)\n",
    "\n",
    "    # Create a figure of the right size with one axes that takes up the full figure\n",
    "    fig = plt.figure(figsize=figsize)\n",
    "    ax = fig.add_axes([0, 0, 1, 1])\n",
    "\n",
    "    # Hide spines, ticks, etc.\n",
    "    ax.axis('off')\n",
    "\n",
    "    # Display the image.\n",
    "    ax.imshow(im_data)\n",
    "\n",
    "    plt.show()"
   ],
   "outputs": [],
   "metadata": {}
  },
  {
   "cell_type": "code",
   "execution_count": null,
   "source": [
    "images_root = \"../data/images\"\n",
    "labels_root = \"../data/masks\"\n",
    "\n",
    "images_paths = sorted([os.path.join(images_root, img_name) for img_name in os.listdir(images_root)])\n",
    "labels_paths = [os.path.splitext(os.path.join(labels_root, os.path.basename(img_name)))[0] + '.png' for img_name in images_paths]"
   ],
   "outputs": [],
   "metadata": {}
  },
  {
   "cell_type": "code",
   "execution_count": null,
   "source": [
    "src = rasterio.open(images_paths[0]).read()[:3]\n",
    "src = np.transpose(src, [1, 2, 0])"
   ],
   "outputs": [],
   "metadata": {}
  },
  {
   "cell_type": "code",
   "execution_count": null,
   "source": [
    "src.shape"
   ],
   "outputs": [],
   "metadata": {}
  },
  {
   "cell_type": "code",
   "execution_count": null,
   "source": [
    "label = cv.imread(labels_paths[0])"
   ],
   "outputs": [],
   "metadata": {}
  },
  {
   "cell_type": "code",
   "execution_count": null,
   "source": [
    "plt.imshow(label)"
   ],
   "outputs": [],
   "metadata": {}
  },
  {
   "cell_type": "code",
   "execution_count": null,
   "source": [
    "np.unique(label)"
   ],
   "outputs": [],
   "metadata": {}
  },
  {
   "cell_type": "code",
   "execution_count": null,
   "source": [
    "seq = iaa.Sequential([\n",
    "    iaa.Resize((1.0, 4.0)),\n",
    "    iaa.CropToFixedSize(width=crop_size, height=crop_size),\n",
    "    iaa.Rot90([1, 3]),\n",
    "    iaa.Fliplr(0.5),\n",
    "    iaa.Flipud(0.5),\n",
    "    iaa.Sometimes(\n",
    "        0.6,\n",
    "        [\n",
    "            iaa.TranslateX(percent=(-0.2, 0.2)),\n",
    "            iaa.TranslateY(percent=(-0.2, 0.2)),\n",
    "        ]    \n",
    "    ),\n",
    "    iaa.Sometimes(\n",
    "        0.6,\n",
    "        iaa.Affine(rotate=(-23, 23)),\n",
    "    ),\n",
    "    iaa.Sometimes(\n",
    "        0.5,\n",
    "        iaa.Sharpen((0.0, 0.5), lightness=(0.75, 1.4)),\n",
    "    ),\n",
    "    iaa.Sometimes(\n",
    "        0.05,\n",
    "        iaa.SomeOf(\n",
    "            1,\n",
    "            [\n",
    "                iaa.CLAHE(),\n",
    "                iaa.AdditiveGaussianNoise(scale=(0, 25)),\n",
    "                iaa.blur.GaussianBlur(0, 1),\n",
    "            ], \n",
    "        ),        \n",
    "    ),\n",
    "    iaa.Sometimes(\n",
    "        0.01,\n",
    "        iaa.ElasticTransformation(alpha=50, sigma=5)    \n",
    "    ),\n",
    "])"
   ],
   "outputs": [],
   "metadata": {}
  },
  {
   "cell_type": "code",
   "execution_count": null,
   "source": [
    "segmap = SegmentationMapsOnImage(label // 255, shape=src.shape)"
   ],
   "outputs": [],
   "metadata": {}
  },
  {
   "cell_type": "code",
   "execution_count": null,
   "source": [
    "def modified_random_crop(image, label, crop_size):\n",
    "    x0 = np.random.randint(0, image.shape[1] - crop_size)\n",
    "    y0 = np.random.randint(0, image.shape[0] - crop_size)\n",
    "\n",
    "    b_sc = 0\n",
    "    for _try in range(4):\n",
    "        _x0 = np.random.randint(0, image.shape[1] - crop_size)\n",
    "        _y0 = np.random.randint(0, image.shape[0] - crop_size)\n",
    "        _sc = label[_y0:_y0+crop_size, _x0:_x0+crop_size, :].sum()\n",
    "        if _sc > b_sc:\n",
    "            b_sc = _sc\n",
    "            x0 = _x0\n",
    "            y0 = _y0\n",
    "\n",
    "    image = image[y0:y0+crop_size, x0:x0+crop_size, :]\n",
    "    label = label[y0:y0+crop_size, x0:x0+crop_size, :]\n",
    "    return image, label"
   ],
   "outputs": [],
   "metadata": {}
  },
  {
   "cell_type": "code",
   "execution_count": null,
   "source": [
    "images_aug = []\n",
    "segmaps_aug = []\n",
    "for _ in range(5):\n",
    "    images_aug_i, segmaps_aug_i = seq(image=src, segmentation_maps=segmap)\n",
    "    images_aug.append(images_aug_i)\n",
    "    segmaps_aug.append(segmaps_aug_i)"
   ],
   "outputs": [],
   "metadata": {}
  },
  {
   "cell_type": "code",
   "execution_count": null,
   "source": [
    "cells = []\n",
    "for image_aug, segmap_aug in zip(images_aug, segmaps_aug):\n",
    "    # cells.append(src)                                         # column 1\n",
    "    # cells.append(segmap.draw_on_image(src)[0])                # column 2\n",
    "    cells.append(image_aug)                                     # column 3\n",
    "    cells.append(segmap_aug.draw_on_image(image_aug)[0])        # column 4\n",
    "    cells.append(segmap_aug.draw(size=image_aug.shape[:2])[0])  # column 5"
   ],
   "outputs": [],
   "metadata": {}
  },
  {
   "cell_type": "code",
   "execution_count": null,
   "source": [
    "grid_image = ia.draw_grid(cells, cols=3)"
   ],
   "outputs": [],
   "metadata": {}
  },
  {
   "cell_type": "code",
   "execution_count": null,
   "source": [
    "imageio.imwrite(\"example_augmentation.jpg\", grid_image)"
   ],
   "outputs": [],
   "metadata": {}
  },
  {
   "cell_type": "code",
   "execution_count": null,
   "source": [
    "for img in images_aug:\n",
    "    print(img.shape)"
   ],
   "outputs": [],
   "metadata": {}
  },
  {
   "cell_type": "code",
   "execution_count": null,
   "source": [
    "type(seq)"
   ],
   "outputs": [],
   "metadata": {}
  },
  {
   "cell_type": "code",
   "execution_count": null,
   "source": [
    "from torchvision import transforms\n",
    "type(transforms.Compose([\n",
    "     transforms.CenterCrop(10),\n",
    "     transforms.ToTensor(),\n",
    "]))"
   ],
   "outputs": [],
   "metadata": {}
  },
  {
   "cell_type": "code",
   "execution_count": null,
   "source": [],
   "outputs": [],
   "metadata": {}
  }
 ],
 "metadata": {
  "orig_nbformat": 4,
  "language_info": {
   "name": "python",
   "version": "3.9.6",
   "mimetype": "text/x-python",
   "codemirror_mode": {
    "name": "ipython",
    "version": 3
   },
   "pygments_lexer": "ipython3",
   "nbconvert_exporter": "python",
   "file_extension": ".py"
  },
  "kernelspec": {
   "name": "python3",
   "display_name": "Python 3.9.6 64-bit ('sn7': conda)"
  },
  "interpreter": {
   "hash": "986805202e7b4b3945d9ecd60001776317853be6926f3bbf171968f1a304a27d"
  }
 },
 "nbformat": 4,
 "nbformat_minor": 2
}